{
 "cells": [
  {
   "cell_type": "markdown",
   "id": "147f514a",
   "metadata": {},
   "source": [
    "# Guruprasad Velikadu Krishnamoorthy\n",
    "# DSC530- Assignment Week 4"
   ]
  },
  {
   "cell_type": "markdown",
   "id": "f7dd9cb7",
   "metadata": {},
   "source": [
    "## Initial Setup"
   ]
  },
  {
   "cell_type": "code",
   "execution_count": 1,
   "id": "000446e3",
   "metadata": {},
   "outputs": [],
   "source": [
    "# Download basename and exists from OS module which will be used in the download function\n",
    "from os.path import basename, exists\n",
    "\n",
    "# Create a function named download_file, to dounload the scripts and files from Github to local path\n",
    "def download_files(url):\n",
    "    \"\"\"\n",
    "    Downloads the scripts/ files from Github to local directory\n",
    "    takes url as input.\n",
    "    \"\"\"\n",
    "    filename = basename(url)\n",
    "    # Checking if the file exists in the local directory and it downloads the file if it doesn't exist already.\n",
    "    if not exists(filename):\n",
    "        from urllib.request import urlretrieve\n",
    "        # Downloading the files to the local path\n",
    "        local, _ = urlretrieve(url, filename)\n",
    "        # Printing confirmation message\n",
    "        print(\"Downloaded \" + local)\n",
    "\n"
   ]
  },
  {
   "cell_type": "code",
   "execution_count": 2,
   "id": "df036e8d",
   "metadata": {},
   "outputs": [],
   "source": [
    "#  Calling download functions to download .py files and data files used throughtout this assignment\n",
    "download_files(\"https://github.com/AllenDowney/ThinkStats2/raw/master/code/2002FemResp.dct\")\n",
    "download_files(\"https://github.com/AllenDowney/ThinkStats2/raw/master/code/2002FemResp.dat.gz\")\n",
    "download_files(\"https://github.com/AllenDowney/ThinkStats2/raw/master/code/thinkstats2.py\")\n",
    "download_files(\"https://github.com/AllenDowney/ThinkStats2/raw/master/code/thinkplot.py\")\n",
    "download_files(\"https://github.com/AllenDowney/ThinkStats2/raw/master/code/nsfg.py\")\n",
    "download_files(\"https://github.com/AllenDowney/ThinkStats2/raw/master/code/2002FemPreg.dct\")\n",
    "download_files(\"https://github.com/AllenDowney/ThinkStats2/raw/master/code/2002FemPreg.dat.gz\")"
   ]
  },
  {
   "cell_type": "code",
   "execution_count": 3,
   "id": "90102169",
   "metadata": {},
   "outputs": [],
   "source": [
    "# Importing the nsfg and other modules module from the author's code\n",
    "import nsfg\n",
    "import thinkstats2\n",
    "import thinkplot\n",
    "\n",
    "# importing the required libraries\n",
    "import numpy as np\n",
    "import sys\n",
    "from collections import defaultdict\n",
    "import math\n",
    "import itertools\n",
    "import pandas as pd\n",
    "\n"
   ]
  },
  {
   "cell_type": "code",
   "execution_count": 4,
   "id": "01ba13af",
   "metadata": {},
   "outputs": [],
   "source": [
    "# Setting the maximum number of rows and columns to display\n",
    "pd.options.display.max_rows=20\n",
    "pd.options.display.max_columns=20\n",
    "pd.options.display.precision =3"
   ]
  },
  {
   "cell_type": "code",
   "execution_count": 5,
   "id": "9ac901da",
   "metadata": {},
   "outputs": [
    {
     "data": {
      "text/html": [
       "<div>\n",
       "<style scoped>\n",
       "    .dataframe tbody tr th:only-of-type {\n",
       "        vertical-align: middle;\n",
       "    }\n",
       "\n",
       "    .dataframe tbody tr th {\n",
       "        vertical-align: top;\n",
       "    }\n",
       "\n",
       "    .dataframe thead th {\n",
       "        text-align: right;\n",
       "    }\n",
       "</style>\n",
       "<table border=\"1\" class=\"dataframe\">\n",
       "  <thead>\n",
       "    <tr style=\"text-align: right;\">\n",
       "      <th></th>\n",
       "      <th>caseid</th>\n",
       "      <th>rscrinf</th>\n",
       "      <th>rdormres</th>\n",
       "      <th>rostscrn</th>\n",
       "      <th>rscreenhisp</th>\n",
       "      <th>rscreenrace</th>\n",
       "      <th>age_a</th>\n",
       "      <th>age_r</th>\n",
       "      <th>cmbirth</th>\n",
       "      <th>agescrn</th>\n",
       "      <th>...</th>\n",
       "      <th>pubassis_i</th>\n",
       "      <th>basewgt</th>\n",
       "      <th>adj_mod_basewgt</th>\n",
       "      <th>finalwgt</th>\n",
       "      <th>secu_r</th>\n",
       "      <th>sest</th>\n",
       "      <th>cmintvw</th>\n",
       "      <th>cmlstyr</th>\n",
       "      <th>screentime</th>\n",
       "      <th>intvlngth</th>\n",
       "    </tr>\n",
       "  </thead>\n",
       "  <tbody>\n",
       "    <tr>\n",
       "      <th>0</th>\n",
       "      <td>2298</td>\n",
       "      <td>1</td>\n",
       "      <td>5</td>\n",
       "      <td>5</td>\n",
       "      <td>1</td>\n",
       "      <td>5.0</td>\n",
       "      <td>27</td>\n",
       "      <td>27</td>\n",
       "      <td>902</td>\n",
       "      <td>27</td>\n",
       "      <td>...</td>\n",
       "      <td>0</td>\n",
       "      <td>3247.917</td>\n",
       "      <td>5123.760</td>\n",
       "      <td>5556.717</td>\n",
       "      <td>2</td>\n",
       "      <td>18</td>\n",
       "      <td>1234</td>\n",
       "      <td>1222</td>\n",
       "      <td>18:26:36</td>\n",
       "      <td>110.493</td>\n",
       "    </tr>\n",
       "    <tr>\n",
       "      <th>1</th>\n",
       "      <td>5012</td>\n",
       "      <td>1</td>\n",
       "      <td>5</td>\n",
       "      <td>1</td>\n",
       "      <td>5</td>\n",
       "      <td>5.0</td>\n",
       "      <td>42</td>\n",
       "      <td>42</td>\n",
       "      <td>718</td>\n",
       "      <td>42</td>\n",
       "      <td>...</td>\n",
       "      <td>0</td>\n",
       "      <td>2335.279</td>\n",
       "      <td>2846.799</td>\n",
       "      <td>4744.191</td>\n",
       "      <td>2</td>\n",
       "      <td>18</td>\n",
       "      <td>1233</td>\n",
       "      <td>1221</td>\n",
       "      <td>16:30:59</td>\n",
       "      <td>64.294</td>\n",
       "    </tr>\n",
       "    <tr>\n",
       "      <th>2</th>\n",
       "      <td>11586</td>\n",
       "      <td>1</td>\n",
       "      <td>5</td>\n",
       "      <td>1</td>\n",
       "      <td>5</td>\n",
       "      <td>5.0</td>\n",
       "      <td>43</td>\n",
       "      <td>43</td>\n",
       "      <td>708</td>\n",
       "      <td>43</td>\n",
       "      <td>...</td>\n",
       "      <td>0</td>\n",
       "      <td>2335.279</td>\n",
       "      <td>2846.799</td>\n",
       "      <td>4744.191</td>\n",
       "      <td>2</td>\n",
       "      <td>18</td>\n",
       "      <td>1234</td>\n",
       "      <td>1222</td>\n",
       "      <td>18:19:09</td>\n",
       "      <td>75.149</td>\n",
       "    </tr>\n",
       "    <tr>\n",
       "      <th>3</th>\n",
       "      <td>6794</td>\n",
       "      <td>5</td>\n",
       "      <td>5</td>\n",
       "      <td>4</td>\n",
       "      <td>1</td>\n",
       "      <td>5.0</td>\n",
       "      <td>15</td>\n",
       "      <td>15</td>\n",
       "      <td>1042</td>\n",
       "      <td>15</td>\n",
       "      <td>...</td>\n",
       "      <td>0</td>\n",
       "      <td>3783.152</td>\n",
       "      <td>5071.464</td>\n",
       "      <td>5923.977</td>\n",
       "      <td>2</td>\n",
       "      <td>18</td>\n",
       "      <td>1234</td>\n",
       "      <td>1222</td>\n",
       "      <td>15:54:43</td>\n",
       "      <td>28.643</td>\n",
       "    </tr>\n",
       "    <tr>\n",
       "      <th>4</th>\n",
       "      <td>616</td>\n",
       "      <td>1</td>\n",
       "      <td>5</td>\n",
       "      <td>4</td>\n",
       "      <td>1</td>\n",
       "      <td>5.0</td>\n",
       "      <td>20</td>\n",
       "      <td>20</td>\n",
       "      <td>991</td>\n",
       "      <td>20</td>\n",
       "      <td>...</td>\n",
       "      <td>0</td>\n",
       "      <td>5341.330</td>\n",
       "      <td>6437.336</td>\n",
       "      <td>7229.128</td>\n",
       "      <td>2</td>\n",
       "      <td>18</td>\n",
       "      <td>1233</td>\n",
       "      <td>1221</td>\n",
       "      <td>14:19:44</td>\n",
       "      <td>69.503</td>\n",
       "    </tr>\n",
       "  </tbody>\n",
       "</table>\n",
       "<p>5 rows × 3087 columns</p>\n",
       "</div>"
      ],
      "text/plain": [
       "   caseid  rscrinf  rdormres  rostscrn  rscreenhisp  rscreenrace  age_a  \\\n",
       "0    2298        1         5         5            1          5.0     27   \n",
       "1    5012        1         5         1            5          5.0     42   \n",
       "2   11586        1         5         1            5          5.0     43   \n",
       "3    6794        5         5         4            1          5.0     15   \n",
       "4     616        1         5         4            1          5.0     20   \n",
       "\n",
       "   age_r  cmbirth  agescrn  ...  pubassis_i   basewgt  adj_mod_basewgt  \\\n",
       "0     27      902       27  ...           0  3247.917         5123.760   \n",
       "1     42      718       42  ...           0  2335.279         2846.799   \n",
       "2     43      708       43  ...           0  2335.279         2846.799   \n",
       "3     15     1042       15  ...           0  3783.152         5071.464   \n",
       "4     20      991       20  ...           0  5341.330         6437.336   \n",
       "\n",
       "   finalwgt  secu_r  sest  cmintvw  cmlstyr  screentime  intvlngth  \n",
       "0  5556.717       2    18     1234     1222    18:26:36    110.493  \n",
       "1  4744.191       2    18     1233     1221    16:30:59     64.294  \n",
       "2  4744.191       2    18     1234     1222    18:19:09     75.149  \n",
       "3  5923.977       2    18     1234     1222    15:54:43     28.643  \n",
       "4  7229.128       2    18     1233     1221    14:19:44     69.503  \n",
       "\n",
       "[5 rows x 3087 columns]"
      ]
     },
     "execution_count": 5,
     "metadata": {},
     "output_type": "execute_result"
    }
   ],
   "source": [
    "# Creating Respondents Dataframe\n",
    "dct_file='2002FemResp.dct'\n",
    "dat_file='2002FemResp.dat.gz'\n",
    "nrows = None\n",
    "# Reading the dictionary file using  thinkstats2 module\n",
    "dictionary_file = thinkstats2.ReadStataDct(dct_file)\n",
    "# creating dataframe for the respondents file read and print top 5 lines\n",
    "respondents_df = dictionary_file.ReadFixedWidth(dat_file, compression='gzip', nrows=nrows)\n",
    "respondents_df.head()"
   ]
  },
  {
   "cell_type": "code",
   "execution_count": 6,
   "id": "5aeca80d",
   "metadata": {},
   "outputs": [],
   "source": [
    "# Creating Pregnancy Dataframe using the nfsg module \n",
    "pregnancy_df = nsfg.ReadFemPreg()\n",
    "# Creating seperate dataframes for Live births, first and other births\n",
    "live_births = pregnancy_df[pregnancy_df.outcome == 1]\n",
    "first_births = live_births[live_births.birthord == 1]\n",
    "other_births = live_births[live_births.birthord != 1]"
   ]
  },
  {
   "cell_type": "markdown",
   "id": "7367fb68",
   "metadata": {},
   "source": [
    "# Exercise 3.1"
   ]
  },
  {
   "cell_type": "markdown",
   "id": "c3a96b93",
   "metadata": {},
   "source": [
    "***Question:*** Something like the class size paradox appears if you survey children and ask how many children are in their family. Families with many children are more likely to appear in your sample, and families with no children have no chance to be in the sample.\n",
    "\n",
    "Use the NSFG respondent variable numkdhh to construct the actual distribution for the number of children under 18 in the respondents' households.\n",
    "\n",
    "Now compute the biased distribution we would see if we surveyed the children and asked them how many children under 18 (including themselves) are in their household.\n",
    "\n",
    "Plot the actual and biased distributions, and compute their means."
   ]
  },
  {
   "cell_type": "code",
   "execution_count": 7,
   "id": "315cb8fa",
   "metadata": {},
   "outputs": [
    {
     "data": {
      "text/plain": [
       "Hist({0: 3563, 1: 1636, 2: 1500, 3: 666, 4: 196, 5: 82}, 'numkdhh')"
      ]
     },
     "execution_count": 7,
     "metadata": {},
     "output_type": "execute_result"
    }
   ],
   "source": [
    "# creating a histogram on the variable numkdhh from respondents dataframe\n",
    "numkdhh_hist = thinkstats2.Hist(respondents_df.numkdhh, label=\"numkdhh\")\n",
    "numkdhh_hist"
   ]
  },
  {
   "cell_type": "code",
   "execution_count": 8,
   "id": "ec1983a5",
   "metadata": {},
   "outputs": [
    {
     "data": {
      "text/plain": [
       "Pmf({0: 0.466178202276593, 1: 0.21405207379301322, 2: 0.19625801386889966, 3: 0.08713855815779145, 4: 0.025644380478869556, 5: 0.01072877142483318}, 'actual_numkdhh')"
      ]
     },
     "execution_count": 8,
     "metadata": {},
     "output_type": "execute_result"
    }
   ],
   "source": [
    "# creating a Probablity Mass function on the variable numkdhh from respondents dataframe\n",
    "numkdhh_pmf = thinkstats2.Pmf(respondents_df.numkdhh, label=\"actual_numkdhh\")\n",
    "numkdhh_pmf"
   ]
  },
  {
   "cell_type": "code",
   "execution_count": 9,
   "id": "780b9f63",
   "metadata": {},
   "outputs": [
    {
     "data": {
      "image/png": "[encoded data removed]",
      "text/plain": [
       "<Figure size 640x480 with 1 Axes>"
      ]
     },
     "metadata": {},
     "output_type": "display_data"
    }
   ],
   "source": [
    "# Plotting the histogram on variable numkdhh from respondents dataframe\n",
    "thinkplot.Hist(numkdhh_hist)\n",
    "thinkplot.Config(xlabel=\"Number of children\", ylabel=\"Count\")\n"
   ]
  },
  {
   "cell_type": "code",
   "execution_count": 10,
   "id": "0c904073",
   "metadata": {},
   "outputs": [
    {
     "data": {
      "image/png": "[encoded data removed]",
      "text/plain": [
       "<Figure size 640x480 with 1 Axes>"
      ]
     },
     "metadata": {},
     "output_type": "display_data"
    }
   ],
   "source": [
    "# Plotting the pmf on variable numkdhh from respondents dataframe. This Uses a smooth plot.\n",
    "thinkplot.Pmf(numkdhh_pmf)\n",
    "thinkplot.Config(xlabel=\"Number of children\", ylabel=\"PMF\")"
   ]
  },
  {
   "cell_type": "code",
   "execution_count": 11,
   "id": "629b5994",
   "metadata": {},
   "outputs": [],
   "source": [
    "# Creating a function to calculate the Biased pmf\n",
    "def BiasedPmf(prob_mass_func, label):\n",
    "        \"\"\"\n",
    "        Calculates Biased pmf for the given pmf.\n",
    "        Takes the existing pmf name and the label for Biased pmf as inputs.\n",
    "        \"\"\"\n",
    "        # Creates a copy of existing pmf and names it as new_prob_mass_func\n",
    "        new_prob_mass_func = prob_mass_func.Copy(label=label)\n",
    "        # Iterates through each item in pmf and takes the the item and its frequency\n",
    "        for item, prob in prob_mass_func.Items():\n",
    "        # The probability of each item is multiplies by the value of the item.\n",
    "        # for example if the item is 2 and if its probablity id 0.2, the new probablity will be 2 * 0.2= 0.4 \n",
    "            new_prob_mass_func.Mult(item, item)\n",
    "        # This will standardize so the sum of all probablities in new_pmf will be 1 and return the new pmf\n",
    "            new_prob_mass_func.Normalize()\n",
    "            return new_prob_mass_func"
   ]
  },
  {
   "cell_type": "code",
   "execution_count": 12,
   "id": "a97065d9",
   "metadata": {},
   "outputs": [
    {
     "data": {
      "image/png": "[encoded data removed]",
      "text/plain": [
       "<Figure size 640x480 with 1 Axes>"
      ]
     },
     "metadata": {},
     "output_type": "display_data"
    }
   ],
   "source": [
    "# Calling the biased pmf function for numkdhh_pmf and pass the balel of biased pmf as observed_numkdhh\n",
    "biased_numkdhh_pmf = BiasedPmf(numkdhh_pmf, label=\"observed_numkdhh\")\n",
    "# This will create 2 graphs for 2 pmfs in the same plot\n",
    "thinkplot.PrePlot(2)\n",
    "# Note Pmfs function is used from thinkplot module and not Pmf to plot both biased and unbiased pmf\n",
    "thinkplot.Pmfs([numkdhh_pmf, biased_numkdhh_pmf])\n",
    "# Adding the labels to the graph\n",
    "thinkplot.Config(xlabel=\"Number of children\", ylabel=\"PMF\")"
   ]
  },
  {
   "cell_type": "code",
   "execution_count": 13,
   "id": "af0e6e34",
   "metadata": {},
   "outputs": [
    {
     "data": {
      "text/plain": [
       "(1.024205155043831, 1.4128643263531195)"
      ]
     },
     "execution_count": 13,
     "metadata": {},
     "output_type": "execute_result"
    }
   ],
   "source": [
    "# Calculating the mean and variance of Original Unbiased numkdhh_pmf\n",
    "numkdhh_pmf.Mean(), numkdhh_pmf.Var()"
   ]
  },
  {
   "cell_type": "code",
   "execution_count": 14,
   "id": "89abac64",
   "metadata": {},
   "outputs": [
    {
     "data": {
      "text/plain": [
       "(1.9186274509803922, 0.9306334102268358)"
      ]
     },
     "execution_count": 14,
     "metadata": {},
     "output_type": "execute_result"
    }
   ],
   "source": [
    "# Calculating the mean and variance of biased biased_numkdhh_pmf\n",
    "biased_numkdhh_pmf.Mean(),biased_numkdhh_pmf.Var()"
   ]
  },
  {
   "cell_type": "markdown",
   "id": "7bb1ed8d",
   "metadata": {},
   "source": [
    "#### ***Interpretaion of Class size paradox results:***\n",
    "\n",
    "Children experience averages in terms of their experience and not by the averages that is calculated by the mathematics.Hence, to add up each child's experience, we multiply x number of experience for x number of children, we end up in a different mean for the biased pmf. The mean of unbiased and biased pmfs are 1.024 and 1.918 respectively. This means each child in reality believes that there are 1.918 children in their household under 18 on average, while in reality the mathematical mean suggests a different value of 1.024. This difference may be due to the difference in the distribution of children in each household. "
   ]
  },
  {
   "cell_type": "markdown",
   "id": "d5594223",
   "metadata": {},
   "source": [
    "# Exercise 3.2"
   ]
  },
  {
   "cell_type": "markdown",
   "id": "45743fe6",
   "metadata": {},
   "source": [
    "**Question:** In Chapter 3 we computed the mean of a sample by adding up\n",
    "the elements and dividing by n.  If you are given a PMF, you can\n",
    "still compute the mean, but the process is slightly different:\n",
    "%\n",
    "$$ \\bar x = \\sum_i p_i~x_i $$\n",
    "%\n",
    "where the $x_i$ are the unique values in the PMF and $p_i=PMF(x_i)$.\n",
    "Similarly, you can compute variance like this:\n",
    "%\n",
    "$$ S^2 = \\sum_i p_i~(x_i - \\bar x)^2 $$\n",
    "% \n",
    "Write functions called `PmfMean` and `PmfVar` that take a\n",
    "Pmf object and compute the mean and variance.  To test these methods,\n",
    "check that they are consistent with the methods `Mean` and `Var`\n",
    "provided by `Pmf`."
   ]
  },
  {
   "cell_type": "code",
   "execution_count": 15,
   "id": "9a89a796",
   "metadata": {},
   "outputs": [],
   "source": [
    "# Calculate the Mean of Pmf\n",
    "def PMF_Mean(sample_pmf):\n",
    "    \"\"\"Computes the mean of a PMF.\n",
    "    Returns:\n",
    "        float mean\n",
    "    \"\"\"\n",
    "    # setting initial value of mean to 0\n",
    "    mean=0.0\n",
    "    # Looping through each item and calculating the product of probablity and the item value\n",
    "    for item,prob in sample_pmf.Items():\n",
    "        # Calculating the sum of mean of all values\n",
    "        mean+=(item*prob)\n",
    "    return mean"
   ]
  },
  {
   "cell_type": "code",
   "execution_count": 16,
   "id": "7797c25c",
   "metadata": {},
   "outputs": [
    {
     "data": {
      "text/plain": [
       "1.024205155043831"
      ]
     },
     "execution_count": 16,
     "metadata": {},
     "output_type": "execute_result"
    }
   ],
   "source": [
    "# Calculating the mean of numkdhh_pmf using the function PMF_Mean\n",
    "PMF_Mean(numkdhh_pmf)"
   ]
  },
  {
   "cell_type": "code",
   "execution_count": 17,
   "id": "71aa7566",
   "metadata": {},
   "outputs": [],
   "source": [
    "# Using assert function to validate the value of mean caculated\n",
    "assert PMF_Mean(numkdhh_pmf) == numkdhh_pmf.Mean()"
   ]
  },
  {
   "cell_type": "code",
   "execution_count": 18,
   "id": "62a960c5",
   "metadata": {},
   "outputs": [],
   "source": [
    "def PMF_Variance(sample_pmf,mean=None):\n",
    "    \"\"\"Computes the variance of a PMF.\n",
    "    mean: the point around which the variance is computed;\n",
    "            if omitted, computes the mean\n",
    "    returns: float variance\n",
    "    \"\"\"\n",
    "    # setting initial value of variance to 0\n",
    "    variance=0.0\n",
    "    # If mean value is not provided it will calculate the mean using PMF_Mean function\n",
    "    if mean is None:\n",
    "        mean=PMF_Mean(sample_pmf)\n",
    "    # Looping through each item and calculating the variance using the formula given in the question\n",
    "    for item,prob in sample_pmf.Items():\n",
    "        # Calculating the sum of variance of all values\n",
    "        variance+=(prob * (item - mean) ** 2)\n",
    "    return variance"
   ]
  },
  {
   "cell_type": "code",
   "execution_count": 19,
   "id": "b53cb99d",
   "metadata": {},
   "outputs": [
    {
     "data": {
      "text/plain": [
       "1.4128643263531195"
      ]
     },
     "execution_count": 19,
     "metadata": {},
     "output_type": "execute_result"
    }
   ],
   "source": [
    "# Calculating the Variance of numkdhh_pmf using the function PMF_Variance\n",
    "PMF_Variance(numkdhh_pmf)"
   ]
  },
  {
   "cell_type": "code",
   "execution_count": 20,
   "id": "d921dce5",
   "metadata": {},
   "outputs": [],
   "source": [
    "# Using assert function to validate the value of Variance caculated\n",
    "assert PMF_Variance(numkdhh_pmf)==numkdhh_pmf.Var()"
   ]
  },
  {
   "cell_type": "markdown",
   "id": "444a48c2",
   "metadata": {},
   "source": [
    "#### ***Interpretation of the results:***\n",
    "The results of the mean computed by the PMF_Mean and PMF_Variance are consistent with the results from Mean and Var methods provided by Pmf. "
   ]
  },
  {
   "cell_type": "markdown",
   "id": "a5ec406b",
   "metadata": {},
   "source": [
    "# Exercise 4.1"
   ]
  },
  {
   "cell_type": "markdown",
   "id": "f3cc4dbb",
   "metadata": {},
   "source": [
    "#### ***Question:***: How much did you weigh at birth? If you don’t know, call your mother or someone else who knows. Using the NSFG data (all live births), compute the distribution of birth weights and use it to find your percentile rank. If you were a first baby, find your percentile rank in the distribution for first babies. Otherwise use the distribution for others. If you are in the 90th percentile or higher, call your mother back and apologize."
   ]
  },
  {
   "cell_type": "code",
   "execution_count": 21,
   "id": "4b8154ea",
   "metadata": {},
   "outputs": [
    {
     "data": {
      "image/png": "[encoded data removed]",
      "text/plain": [
       "<Figure size 640x480 with 1 Axes>"
      ]
     },
     "metadata": {},
     "output_type": "display_data"
    }
   ],
   "source": [
    "# Using CDF function in thinkstats2 module to calculate the Cumulative distribution function.\n",
    "# Using first births dataframe and other births dataframe \n",
    "first_births_cdf = thinkstats2.Cdf(first_births.totalwgt_lb, label='first_births')\n",
    "other_births_cdf = thinkstats2.Cdf(other_births.totalwgt_lb, label='other_births')\n",
    "# Creating plot  with 2 graphs\n",
    "thinkplot.PrePlot(2)\n",
    "# using Cdfs function(not cdf) to plot graph with 2 arguments\n",
    "thinkplot.Cdfs([first_births_cdf, other_births_cdf])\n",
    "thinkplot.Config(xlabel='Weight (pounds)', ylabel='CDF')"
   ]
  },
  {
   "cell_type": "code",
   "execution_count": 22,
   "id": "5aa93cb8",
   "metadata": {},
   "outputs": [
    {
     "name": "stdout",
     "output_type": "stream",
     "text": [
      "First_births_cdf- Percentile(25) value is 6.4375. Other_births_cdf- Percentile(25) value is 6.5.\n",
      "First_births_cdf- Percentile(50) value is 7.3125. Other_births_cdf- Percentile(50) value is 7.375.\n",
      "First_births_cdf- Percentile(75) value is 8.0. Other_births_cdf- Percentile(75) value is 8.1875.\n",
      "First_births_cdf- Percentile(90) value is 8.8125. Other_births_cdf- Percentile(90) value is 8.9375.\n"
     ]
    }
   ],
   "source": [
    "# Printing results from the graph for each percentile\n",
    "print(\n",
    "    f\"First_births_cdf- Percentile(25) value is {first_births_cdf.Percentile(25)}. \"\n",
    "    f\"Other_births_cdf- Percentile(25) value is {other_births_cdf.Percentile(25)}.\")\n",
    "print(f\"First_births_cdf- Percentile(50) value is {first_births_cdf.Percentile(50)}. \"\n",
    "    f\"Other_births_cdf- Percentile(50) value is {other_births_cdf.Percentile(50)}.\")\n",
    "print(f\"First_births_cdf- Percentile(75) value is {first_births_cdf.Percentile(75)}. \"\n",
    "    f\"Other_births_cdf- Percentile(75) value is {other_births_cdf.Percentile(75)}.\")\n",
    "print(f\"First_births_cdf- Percentile(90) value is {first_births_cdf.Percentile(90)}. \"\n",
    "    f\"Other_births_cdf- Percentile(90) value is {other_births_cdf.Percentile(90)}.\")\n",
    "\n"
   ]
  },
  {
   "cell_type": "markdown",
   "id": "6bf00090",
   "metadata": {},
   "source": [
    "#### ***Interpretation of the graph:***\n",
    "The above results indicate that the first babies weigh lesser than the other babies. At each percentile value, the weight of first babies vs other babies can be compared."
   ]
  },
  {
   "cell_type": "code",
   "execution_count": 23,
   "id": "4fd9386f",
   "metadata": {},
   "outputs": [
    {
     "data": {
      "text/plain": [
       "45.70249828099931"
      ]
     },
     "execution_count": 23,
     "metadata": {},
     "output_type": "execute_result"
    }
   ],
   "source": [
    "# Below is my birth weight(I was the first born) which falls in the percentileRank of 45.7 %. Luckily I didn't had to apologize to my mother :)  \n",
    "first_births_cdf.PercentileRank(7.14)"
   ]
  },
  {
   "cell_type": "code",
   "execution_count": 24,
   "id": "1037876f",
   "metadata": {},
   "outputs": [
    {
     "data": {
      "text/plain": [
       "72.36363636363636"
      ]
     },
     "execution_count": 24,
     "metadata": {},
     "output_type": "execute_result"
    }
   ],
   "source": [
    "# As a fun exercise, I asked my mother about my brother's birth weight and found that he falls in the PercentileRank of 72.36 %\n",
    "other_births_cdf.PercentileRank(8.10)"
   ]
  },
  {
   "cell_type": "markdown",
   "id": "1f2b9872",
   "metadata": {},
   "source": [
    "# Exercise 4.2"
   ]
  },
  {
   "cell_type": "markdown",
   "id": "e0b2a328",
   "metadata": {},
   "source": [
    "#### ***Question***: The numbers generated by numpy.random.random are supposed to be uniform between 0 and 1; that is, every value in the range should have the same probability.Generate 1000 numbers from numpy.random.random and plot their PMF. What goes wrong? Now plot the CDF. Is the distribution uniform?"
   ]
  },
  {
   "cell_type": "code",
   "execution_count": 25,
   "id": "56659f3a",
   "metadata": {},
   "outputs": [
    {
     "data": {
      "text/plain": [
       "array([0.40768703, 0.05536604, 0.78853488, 0.28730518, 0.45035059,\n",
       "       0.30391231, 0.52639952, 0.62381221, 0.77677546, 0.68624165,\n",
       "       0.98093886, 0.60081609, 0.81396852, 0.70864515, 0.02753468,\n",
       "       0.90426722, 0.44990485, 0.11892465, 0.83530018, 0.20224823])"
      ]
     },
     "execution_count": 25,
     "metadata": {},
     "output_type": "execute_result"
    }
   ],
   "source": [
    "# Using numpy series to generate 1000 random numbers and printing sample values\n",
    "# Using set seed function to make sure same numbers are generated each time for illustration purposes\n",
    "np.random.seed(40)\n",
    "series = np.random.random(1000)\n",
    "series[0:20]"
   ]
  },
  {
   "cell_type": "code",
   "execution_count": 26,
   "id": "318af261",
   "metadata": {},
   "outputs": [
    {
     "data": {
      "image/png": "[encoded data removed]",
      "text/plain": [
       "<Figure size 640x480 with 1 Axes>"
      ]
     },
     "metadata": {},
     "output_type": "display_data"
    }
   ],
   "source": [
    "# Creating a pmf on the 1000 random numbers generated\n",
    "series_pmf = thinkstats2.Pmf(series)\n",
    "# Plotting the series_pmf sing thinkplot function\n",
    "thinkplot.Pmf(series_pmf)\n",
    "thinkplot.Config(xlabel='Random variate', ylabel='PMF')\n",
    "# The resulting graph is hard to read as the lines are placed continous, plot looks like a blue rectangle."
   ]
  },
  {
   "cell_type": "code",
   "execution_count": 27,
   "id": "cc69133f",
   "metadata": {},
   "outputs": [
    {
     "data": {
      "image/png": "[encoded data removed]",
      "text/plain": [
       "<Figure size 640x480 with 1 Axes>"
      ]
     },
     "metadata": {},
     "output_type": "display_data"
    }
   ],
   "source": [
    "# To avoid the issue with above graph, we are using a linewidth iof 0.05 to see the difference in lines.\n",
    "thinkplot.Pmf(series_pmf, linewidth=0.05)\n",
    "thinkplot.Config(xlabel='Random variate', ylabel='PMF')"
   ]
  },
  {
   "cell_type": "code",
   "execution_count": 28,
   "id": "cbe68c4c",
   "metadata": {},
   "outputs": [
    {
     "data": {
      "image/png": "[encoded data removed]",
      "text/plain": [
       "<Figure size 640x480 with 1 Axes>"
      ]
     },
     "metadata": {},
     "output_type": "display_data"
    }
   ],
   "source": [
    "# Creating a CDF distribution of series\n",
    "series_cdf = thinkstats2.Cdf(series)\n",
    "# Plotting the CDF using thinkplot module\n",
    "thinkplot.Cdf(series_cdf)\n",
    "thinkplot.Config(xlabel='Random variate', ylabel='CDF')"
   ]
  },
  {
   "cell_type": "code",
   "execution_count": 29,
   "id": "19b21a9e",
   "metadata": {},
   "outputs": [
    {
     "data": {
      "text/plain": [
       "(24.2, 49.0, 74.5, 90.0)"
      ]
     },
     "execution_count": 29,
     "metadata": {},
     "output_type": "execute_result"
    }
   ],
   "source": [
    "# Printing the values of Percentile Rank for different values from graph\n",
    "series_cdf.PercentileRank(0.25),series_cdf.PercentileRank(0.5),series_cdf.PercentileRank(0.75),series_cdf.PercentileRank(0.9)"
   ]
  },
  {
   "cell_type": "code",
   "execution_count": 30,
   "id": "51001d55",
   "metadata": {},
   "outputs": [
    {
     "data": {
      "text/plain": [
       "(0.25563487626961534, 0.5083099649576006, 0.7540292373444691, 0.89806400303675)"
      ]
     },
     "execution_count": 30,
     "metadata": {},
     "output_type": "execute_result"
    }
   ],
   "source": [
    "# Printing the values of Percentiles for different values from graph\n",
    "series_cdf.Percentile(25),series_cdf.Percentile(50),series_cdf.Percentile(75),series_cdf.Percentile(90)"
   ]
  },
  {
   "cell_type": "markdown",
   "id": "7977d7a0",
   "metadata": {},
   "source": [
    "#### ***Interpretation of the Results:*** The Results indicate that the distibution is almost uniform. This can be proved from the results of PercentileRank and Percentile functions above. the PercentileRank of 0.25 is 24.2% and PercentileRank of 0.75 is 74.5%. Similarly, the Percentile of Rank 50% is 0.508 and the Percentile of Rank 90% is 0.898. All these values indicate that the distribution is almost uniform"
   ]
  },
  {
   "cell_type": "markdown",
   "id": "c48e0a94",
   "metadata": {},
   "source": [
    "#### Also please note that seed function is used so that the same results are generated each time. Else different set of random numbers will be generated for each execution. So in our example, Nothing can go wrong."
   ]
  }
 ],
 "metadata": {
  "kernelspec": {
   "display_name": "Python 3 (ipykernel)",
   "language": "python",
   "name": "python3"
  },
  "language_info": {
   "codemirror_mode": {
    "name": "ipython",
    "version": 3
   },
   "file_extension": ".py",
   "mimetype": "text/x-python",
   "name": "python",
   "nbconvert_exporter": "python",
   "pygments_lexer": "ipython3",
   "version": "3.9.13"
  }
 },
 "nbformat": 4,
 "nbformat_minor": 5
}
